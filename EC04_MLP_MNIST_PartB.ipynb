{
  "cells": [
    {
      "cell_type": "markdown",
      "metadata": {
        "id": "xMsNyA3WPrER"
      },
      "source": [
        "# **Notebook EC04 (Part B)**\n",
        "# MLP classifier for the MNIST database.\n",
        "## Simplified grid search for the hyperparameters.\n",
        "**Professor:** Fernando J. Von Zuben <br>\n",
        "**Aluno(a):** Daniele Souza Gonçalves\n"
      ]
    },
    {
      "cell_type": "code",
      "execution_count": 7,
      "metadata": {
        "id": "feKIgQlnaT7U"
      },
      "outputs": [],
      "source": [
        "import tensorflow as tf\n",
        "import os\n",
        "import pandas as pd\n",
        "import matplotlib.pyplot as plt\n",
        "mnist = tf.keras.datasets.mnist\n",
        "\n",
        "(x_train, y_train),(x_test, y_test) = mnist.load_data()\n",
        "x_train, x_test = x_train / 255.0, x_test / 255.0"
      ]
    },
    {
      "cell_type": "code",
      "execution_count": 8,
      "metadata": {
        "id": "MH_I88sRYMQR"
      },
      "outputs": [],
      "source": [
        "def model_and_evaluate(N_NEURONS=512,N_LAYERS=1,DROPOUT=0.3,EPOCHS=5,\n",
        "                       OPTIMIZER='adam',verbose=1):\n",
        "    model = tf.keras.models.Sequential([\n",
        "          tf.keras.layers.Flatten(),\n",
        "          tf.keras.layers.Dense(N_NEURONS,activation=tf.nn.relu),\n",
        "          tf.keras.layers.Dropout(DROPOUT)])\n",
        "    if N_LAYERS>1:\n",
        "        for i in range(N_LAYERS-1):\n",
        "            model.add(tf.keras.layers.Dense(N_NEURONS,activation=tf.nn.relu))\n",
        "            model.add(tf.keras.layers.Dropout(DROPOUT))\n",
        "    model.add(tf.keras.layers.Dense(10, activation=tf.nn.softmax))\n",
        "    model.compile(optimizer=OPTIMIZER,\n",
        "                loss='sparse_categorical_crossentropy',\n",
        "                metrics=['accuracy'])\n",
        "    model_history = model.fit(x_train, y_train, epochs=EPOCHS,verbose=verbose)\n",
        "    results = model.evaluate(x_test, y_test,verbose=verbose)\n",
        "    if verbose:\n",
        "        model.summary()\n",
        "        # Evaluate the model on the test data using `evaluate`\n",
        "        print(\"Evaluate on test data\")\n",
        "        print(\"test loss, test acc:\", results)\n",
        "    d = dict(n_neurons = N_NEURONS,\n",
        "           n_layers  = N_LAYERS,\n",
        "           optimizer = OPTIMIZER,\n",
        "           dropout   = DROPOUT,\n",
        "           epochs    = EPOCHS,\n",
        "           loss      = results[0],\n",
        "           accuracy  = results[1])\n",
        "    return d"
      ]
    },
    {
      "cell_type": "code",
      "execution_count": 9,
      "metadata": {
        "id": "fwjImmahSJV6",
        "scrolled": true
      },
      "outputs": [
        {
          "name": "stderr",
          "output_type": "stream",
          "text": [
            "2023-09-10 11:48:38.018981: I tensorflow/core/grappler/optimizers/custom_graph_optimizer_registry.cc:114] Plugin optimizer for device_type GPU is enabled.\n",
            "2023-09-10 11:49:21.148933: I tensorflow/core/grappler/optimizers/custom_graph_optimizer_registry.cc:114] Plugin optimizer for device_type GPU is enabled.\n",
            "2023-09-10 11:49:22.782179: I tensorflow/core/grappler/optimizers/custom_graph_optimizer_registry.cc:114] Plugin optimizer for device_type GPU is enabled.\n",
            "2023-09-10 11:50:03.754620: I tensorflow/core/grappler/optimizers/custom_graph_optimizer_registry.cc:114] Plugin optimizer for device_type GPU is enabled.\n",
            "2023-09-10 11:50:05.254068: I tensorflow/core/grappler/optimizers/custom_graph_optimizer_registry.cc:114] Plugin optimizer for device_type GPU is enabled.\n",
            "2023-09-10 11:50:53.087627: I tensorflow/core/grappler/optimizers/custom_graph_optimizer_registry.cc:114] Plugin optimizer for device_type GPU is enabled.\n",
            "2023-09-10 11:50:54.562864: I tensorflow/core/grappler/optimizers/custom_graph_optimizer_registry.cc:114] Plugin optimizer for device_type GPU is enabled.\n",
            "2023-09-10 11:51:51.960585: I tensorflow/core/grappler/optimizers/custom_graph_optimizer_registry.cc:114] Plugin optimizer for device_type GPU is enabled.\n",
            "2023-09-10 11:51:53.530848: I tensorflow/core/grappler/optimizers/custom_graph_optimizer_registry.cc:114] Plugin optimizer for device_type GPU is enabled.\n",
            "2023-09-10 11:53:13.938158: I tensorflow/core/grappler/optimizers/custom_graph_optimizer_registry.cc:114] Plugin optimizer for device_type GPU is enabled.\n",
            "2023-09-10 11:53:16.088986: I tensorflow/core/grappler/optimizers/custom_graph_optimizer_registry.cc:114] Plugin optimizer for device_type GPU is enabled.\n",
            "2023-09-10 11:54:11.333655: I tensorflow/core/grappler/optimizers/custom_graph_optimizer_registry.cc:114] Plugin optimizer for device_type GPU is enabled.\n",
            "2023-09-10 11:54:13.056276: I tensorflow/core/grappler/optimizers/custom_graph_optimizer_registry.cc:114] Plugin optimizer for device_type GPU is enabled.\n",
            "2023-09-10 11:55:13.438717: I tensorflow/core/grappler/optimizers/custom_graph_optimizer_registry.cc:114] Plugin optimizer for device_type GPU is enabled.\n",
            "2023-09-10 11:55:15.260230: I tensorflow/core/grappler/optimizers/custom_graph_optimizer_registry.cc:114] Plugin optimizer for device_type GPU is enabled.\n",
            "2023-09-10 11:56:19.782331: I tensorflow/core/grappler/optimizers/custom_graph_optimizer_registry.cc:114] Plugin optimizer for device_type GPU is enabled.\n",
            "2023-09-10 11:56:21.373558: I tensorflow/core/grappler/optimizers/custom_graph_optimizer_registry.cc:114] Plugin optimizer for device_type GPU is enabled.\n",
            "2023-09-10 11:56:59.969910: I tensorflow/core/grappler/optimizers/custom_graph_optimizer_registry.cc:114] Plugin optimizer for device_type GPU is enabled.\n",
            "2023-09-10 11:57:01.573357: I tensorflow/core/grappler/optimizers/custom_graph_optimizer_registry.cc:114] Plugin optimizer for device_type GPU is enabled.\n",
            "2023-09-10 11:57:43.653223: I tensorflow/core/grappler/optimizers/custom_graph_optimizer_registry.cc:114] Plugin optimizer for device_type GPU is enabled.\n",
            "2023-09-10 11:57:45.085951: I tensorflow/core/grappler/optimizers/custom_graph_optimizer_registry.cc:114] Plugin optimizer for device_type GPU is enabled.\n",
            "2023-09-10 11:58:29.165157: I tensorflow/core/grappler/optimizers/custom_graph_optimizer_registry.cc:114] Plugin optimizer for device_type GPU is enabled.\n",
            "2023-09-10 11:58:30.505415: I tensorflow/core/grappler/optimizers/custom_graph_optimizer_registry.cc:114] Plugin optimizer for device_type GPU is enabled.\n",
            "2023-09-10 11:59:11.597914: I tensorflow/core/grappler/optimizers/custom_graph_optimizer_registry.cc:114] Plugin optimizer for device_type GPU is enabled.\n",
            "2023-09-10 11:59:12.977044: I tensorflow/core/grappler/optimizers/custom_graph_optimizer_registry.cc:114] Plugin optimizer for device_type GPU is enabled.\n",
            "2023-09-10 11:59:54.570570: I tensorflow/core/grappler/optimizers/custom_graph_optimizer_registry.cc:114] Plugin optimizer for device_type GPU is enabled.\n",
            "2023-09-10 11:59:56.102212: I tensorflow/core/grappler/optimizers/custom_graph_optimizer_registry.cc:114] Plugin optimizer for device_type GPU is enabled.\n",
            "2023-09-10 12:00:46.589070: I tensorflow/core/grappler/optimizers/custom_graph_optimizer_registry.cc:114] Plugin optimizer for device_type GPU is enabled.\n",
            "2023-09-10 12:00:47.984349: I tensorflow/core/grappler/optimizers/custom_graph_optimizer_registry.cc:114] Plugin optimizer for device_type GPU is enabled.\n",
            "2023-09-10 12:01:23.946013: I tensorflow/core/grappler/optimizers/custom_graph_optimizer_registry.cc:114] Plugin optimizer for device_type GPU is enabled.\n"
          ]
        },
        {
          "ename": "InvalidArgumentError",
          "evalue": "Cannot assign a device for operation sequential_32/dense_76/MatMul/ReadVariableOp: Could not satisfy explicit device specification '' because the node {{colocation_node sequential_32/dense_76/MatMul/ReadVariableOp}} was colocated with a group of nodes that required incompatible device '/job:localhost/replica:0/task:0/device:GPU:0'. All available devices [/job:localhost/replica:0/task:0/device:CPU:0, /job:localhost/replica:0/task:0/device:GPU:0]. \nColocation Debug Info:\nColocation group had the following types and supported devices: \nRoot Member(assigned_device_name_index_=2 requested_device_name_='/job:localhost/replica:0/task:0/device:GPU:0' assigned_device_name_='/job:localhost/replica:0/task:0/device:GPU:0' resource_device_name_='/job:localhost/replica:0/task:0/device:GPU:0' supported_device_types_=[CPU] possible_devices_=[]\nResourceApplyFtrl: CPU \nMul: GPU CPU \nAddV2: GPU CPU \nRealDiv: GPU CPU \nReadVariableOp: GPU CPU \nConst: GPU CPU \n_Arg: GPU CPU \n\nColocation members, user-requested devices, and framework assigned devices, if any:\n  sequential_32_dense_76_matmul_readvariableop_resource (_Arg)  framework assigned device=/job:localhost/replica:0/task:0/device:GPU:0\n  ftrl_ftrl_update_resourceapplyftrl_accum (_Arg)  framework assigned device=/job:localhost/replica:0/task:0/device:GPU:0\n  ftrl_ftrl_update_resourceapplyftrl_linear (_Arg)  framework assigned device=/job:localhost/replica:0/task:0/device:GPU:0\n  sequential_32/dense_76/MatMul/ReadVariableOp (ReadVariableOp) \n  Ftrl/Ftrl/update/mul/x (Const) /job:localhost/replica:0/task:0/device:GPU:0\n  Ftrl/Ftrl/update/mul (Mul) /job:localhost/replica:0/task:0/device:GPU:0\n  Ftrl/Ftrl/update/truediv (RealDiv) /job:localhost/replica:0/task:0/device:GPU:0\n  Ftrl/Ftrl/update/add (AddV2) /job:localhost/replica:0/task:0/device:GPU:0\n  Ftrl/Ftrl/update/ResourceApplyFtrl (ResourceApplyFtrl) /job:localhost/replica:0/task:0/device:GPU:0\n\n\t [[{{node sequential_32/dense_76/MatMul/ReadVariableOp}}]] [Op:__inference_train_function_1194850]",
          "output_type": "error",
          "traceback": [
            "\u001b[0;31m---------------------------------------------------------------------------\u001b[0m",
            "\u001b[0;31mInvalidArgumentError\u001b[0m                      Traceback (most recent call last)",
            "Cell \u001b[0;32mIn[9], line 19\u001b[0m\n\u001b[1;32m     17\u001b[0m     rows\u001b[39m.\u001b[39mappend(row)\n\u001b[1;32m     18\u001b[0m \u001b[39mfor\u001b[39;00m optimizer \u001b[39min\u001b[39;00m [\u001b[39m'\u001b[39m\u001b[39mRMSprop\u001b[39m\u001b[39m'\u001b[39m,\u001b[39m'\u001b[39m\u001b[39mSGD\u001b[39m\u001b[39m'\u001b[39m,\u001b[39m'\u001b[39m\u001b[39mFtrl\u001b[39m\u001b[39m'\u001b[39m]:\n\u001b[0;32m---> 19\u001b[0m     row \u001b[39m=\u001b[39m model_and_evaluate(OPTIMIZER\u001b[39m=\u001b[39;49moptimizer,verbose\u001b[39m=\u001b[39;49m\u001b[39m0\u001b[39;49m)\n\u001b[1;32m     20\u001b[0m     row[\u001b[39m'\u001b[39m\u001b[39mrep\u001b[39m\u001b[39m'\u001b[39m] \u001b[39m=\u001b[39m rep\n\u001b[1;32m     21\u001b[0m     rows\u001b[39m.\u001b[39mappend(row)\n",
            "Cell \u001b[0;32mIn[8], line 15\u001b[0m, in \u001b[0;36mmodel_and_evaluate\u001b[0;34m(N_NEURONS, N_LAYERS, DROPOUT, EPOCHS, OPTIMIZER, verbose)\u001b[0m\n\u001b[1;32m     11\u001b[0m model\u001b[39m.\u001b[39madd(tf\u001b[39m.\u001b[39mkeras\u001b[39m.\u001b[39mlayers\u001b[39m.\u001b[39mDense(\u001b[39m10\u001b[39m, activation\u001b[39m=\u001b[39mtf\u001b[39m.\u001b[39mnn\u001b[39m.\u001b[39msoftmax))\n\u001b[1;32m     12\u001b[0m model\u001b[39m.\u001b[39mcompile(optimizer\u001b[39m=\u001b[39mOPTIMIZER,\n\u001b[1;32m     13\u001b[0m             loss\u001b[39m=\u001b[39m\u001b[39m'\u001b[39m\u001b[39msparse_categorical_crossentropy\u001b[39m\u001b[39m'\u001b[39m,\n\u001b[1;32m     14\u001b[0m             metrics\u001b[39m=\u001b[39m[\u001b[39m'\u001b[39m\u001b[39maccuracy\u001b[39m\u001b[39m'\u001b[39m])\n\u001b[0;32m---> 15\u001b[0m model_history \u001b[39m=\u001b[39m model\u001b[39m.\u001b[39;49mfit(x_train, y_train, epochs\u001b[39m=\u001b[39;49mEPOCHS,verbose\u001b[39m=\u001b[39;49mverbose)\n\u001b[1;32m     16\u001b[0m results \u001b[39m=\u001b[39m model\u001b[39m.\u001b[39mevaluate(x_test, y_test,verbose\u001b[39m=\u001b[39mverbose)\n\u001b[1;32m     17\u001b[0m \u001b[39mif\u001b[39;00m verbose:\n",
            "File \u001b[0;32m~/anaconda3/envs/tensorflow/lib/python3.10/site-packages/keras/src/utils/traceback_utils.py:70\u001b[0m, in \u001b[0;36mfilter_traceback.<locals>.error_handler\u001b[0;34m(*args, **kwargs)\u001b[0m\n\u001b[1;32m     67\u001b[0m     filtered_tb \u001b[39m=\u001b[39m _process_traceback_frames(e\u001b[39m.\u001b[39m__traceback__)\n\u001b[1;32m     68\u001b[0m     \u001b[39m# To get the full stack trace, call:\u001b[39;00m\n\u001b[1;32m     69\u001b[0m     \u001b[39m# `tf.debugging.disable_traceback_filtering()`\u001b[39;00m\n\u001b[0;32m---> 70\u001b[0m     \u001b[39mraise\u001b[39;00m e\u001b[39m.\u001b[39mwith_traceback(filtered_tb) \u001b[39mfrom\u001b[39;00m \u001b[39mNone\u001b[39;00m\n\u001b[1;32m     71\u001b[0m \u001b[39mfinally\u001b[39;00m:\n\u001b[1;32m     72\u001b[0m     \u001b[39mdel\u001b[39;00m filtered_tb\n",
            "File \u001b[0;32m~/anaconda3/envs/tensorflow/lib/python3.10/site-packages/tensorflow/python/eager/execute.py:53\u001b[0m, in \u001b[0;36mquick_execute\u001b[0;34m(op_name, num_outputs, inputs, attrs, ctx, name)\u001b[0m\n\u001b[1;32m     51\u001b[0m \u001b[39mtry\u001b[39;00m:\n\u001b[1;32m     52\u001b[0m   ctx\u001b[39m.\u001b[39mensure_initialized()\n\u001b[0;32m---> 53\u001b[0m   tensors \u001b[39m=\u001b[39m pywrap_tfe\u001b[39m.\u001b[39mTFE_Py_Execute(ctx\u001b[39m.\u001b[39m_handle, device_name, op_name,\n\u001b[1;32m     54\u001b[0m                                       inputs, attrs, num_outputs)\n\u001b[1;32m     55\u001b[0m \u001b[39mexcept\u001b[39;00m core\u001b[39m.\u001b[39m_NotOkStatusException \u001b[39mas\u001b[39;00m e:\n\u001b[1;32m     56\u001b[0m   \u001b[39mif\u001b[39;00m name \u001b[39mis\u001b[39;00m \u001b[39mnot\u001b[39;00m \u001b[39mNone\u001b[39;00m:\n",
            "\u001b[0;31mInvalidArgumentError\u001b[0m: Cannot assign a device for operation sequential_32/dense_76/MatMul/ReadVariableOp: Could not satisfy explicit device specification '' because the node {{colocation_node sequential_32/dense_76/MatMul/ReadVariableOp}} was colocated with a group of nodes that required incompatible device '/job:localhost/replica:0/task:0/device:GPU:0'. All available devices [/job:localhost/replica:0/task:0/device:CPU:0, /job:localhost/replica:0/task:0/device:GPU:0]. \nColocation Debug Info:\nColocation group had the following types and supported devices: \nRoot Member(assigned_device_name_index_=2 requested_device_name_='/job:localhost/replica:0/task:0/device:GPU:0' assigned_device_name_='/job:localhost/replica:0/task:0/device:GPU:0' resource_device_name_='/job:localhost/replica:0/task:0/device:GPU:0' supported_device_types_=[CPU] possible_devices_=[]\nResourceApplyFtrl: CPU \nMul: GPU CPU \nAddV2: GPU CPU \nRealDiv: GPU CPU \nReadVariableOp: GPU CPU \nConst: GPU CPU \n_Arg: GPU CPU \n\nColocation members, user-requested devices, and framework assigned devices, if any:\n  sequential_32_dense_76_matmul_readvariableop_resource (_Arg)  framework assigned device=/job:localhost/replica:0/task:0/device:GPU:0\n  ftrl_ftrl_update_resourceapplyftrl_accum (_Arg)  framework assigned device=/job:localhost/replica:0/task:0/device:GPU:0\n  ftrl_ftrl_update_resourceapplyftrl_linear (_Arg)  framework assigned device=/job:localhost/replica:0/task:0/device:GPU:0\n  sequential_32/dense_76/MatMul/ReadVariableOp (ReadVariableOp) \n  Ftrl/Ftrl/update/mul/x (Const) /job:localhost/replica:0/task:0/device:GPU:0\n  Ftrl/Ftrl/update/mul (Mul) /job:localhost/replica:0/task:0/device:GPU:0\n  Ftrl/Ftrl/update/truediv (RealDiv) /job:localhost/replica:0/task:0/device:GPU:0\n  Ftrl/Ftrl/update/add (AddV2) /job:localhost/replica:0/task:0/device:GPU:0\n  Ftrl/Ftrl/update/ResourceApplyFtrl (ResourceApplyFtrl) /job:localhost/replica:0/task:0/device:GPU:0\n\n\t [[{{node sequential_32/dense_76/MatMul/ReadVariableOp}}]] [Op:__inference_train_function_1194850]"
          ]
        }
      ],
      "source": [
        "rows = []\n",
        "for rep in range(10):\n",
        "    row = model_and_evaluate(verbose=0)\n",
        "    row['rep'] = rep\n",
        "    rows.append(row)\n",
        "    for n_neurons in [256,1024,2048,4096]:\n",
        "        row = model_and_evaluate(N_NEURONS=n_neurons,verbose=0)\n",
        "        row['rep'] = rep\n",
        "        rows.append(row)\n",
        "    for n_layers in [2,3,4]:\n",
        "        row = model_and_evaluate(N_LAYERS=n_layers,verbose=0)\n",
        "        row['rep'] = rep\n",
        "        rows.append(row)\n",
        "    for dropout in [0,0.1,0.2,0.4,0.5]:\n",
        "        row = model_and_evaluate(DROPOUT=dropout,verbose=0)\n",
        "        row['rep'] = rep\n",
        "        rows.append(row)\n",
        "    for optimizer in ['RMSprop','SGD','Ftrl']:\n",
        "        row = model_and_evaluate(OPTIMIZER=optimizer,verbose=0)\n",
        "        row['rep'] = rep\n",
        "        rows.append(row)\n",
        "    for epoch in [10,20,30]:\n",
        "        row = model_and_evaluate(EPOCHS=epoch,verbose=0)\n",
        "        row['rep'] = rep\n",
        "        rows.append(row)\n",
        "df = pd.DataFrame(rows)\n",
        "df.to_csv('mnist_EC4_MLP_analysis.csv',index=False)\n",
        "df.head()"
      ]
    },
    {
      "cell_type": "code",
      "execution_count": null,
      "metadata": {
        "id": "KEElqZwZfBYj"
      },
      "outputs": [],
      "source": [
        "df = pd.read_csv('mnist_EC4_MLP_analysis.csv')\n",
        "df.head()"
      ]
    },
    {
      "cell_type": "code",
      "execution_count": null,
      "metadata": {
        "id": "Mt8j5sa8j5Eb"
      },
      "outputs": [],
      "source": [
        "# For the CIFAR10, if the outer loop proves to be too costly, use the code as follows\n",
        "rows = []\n",
        "for rep in [0]: # up to [for rep in [9]:]\n",
        "    row = model_and_evaluate(verbose=0)\n",
        "    row['rep'] = rep\n",
        "    rows.append(row)\n",
        "    for n_neurons in [256,1024,2048,4096]:\n",
        "        row = model_and_evaluate(N_NEURONS=n_neurons,verbose=0)\n",
        "        row['rep'] = rep\n",
        "        rows.append(row)\n",
        "    for n_layers in [2,3,4]:\n",
        "        row = model_and_evaluate(N_LAYERS=n_layers,verbose=0)\n",
        "        row['rep'] = rep\n",
        "        rows.append(row)\n",
        "    for dropout in [0,0.1,0.2,0.4,0.5]:\n",
        "        row = model_and_evaluate(DROPOUT=dropout,verbose=0)\n",
        "        row['rep'] = rep\n",
        "        rows.append(row)\n",
        "    for optimizer in ['RMSprop','SGD','Ftrl']:\n",
        "        row = model_and_evaluate(OPTIMIZER=optimizer,verbose=0)\n",
        "        row['rep'] = rep\n",
        "        rows.append(row)\n",
        "    for epoch in [10,20,30]:\n",
        "        row = model_and_evaluate(EPOCHS=epoch,verbose=0)\n",
        "        row['rep'] = rep\n",
        "        rows.append(row)\n",
        "df = pd.DataFrame(rows)\n",
        "df.to_csv('cifar10_EC4_MLP_analysis.csv', mode='a', header=False, index=False)\n",
        "df.head()"
      ]
    },
    {
      "cell_type": "code",
      "execution_count": null,
      "metadata": {
        "id": "2bzaGx1TfBYk"
      },
      "outputs": [],
      "source": [
        "n_neurons = [256,512,1024,2048,4096]\n",
        "n_layers  = [1,2,3,4]\n",
        "dropout   = [0,0.1,0.2,0.3,0.4,0.5]\n",
        "optimizer = ['adam','RMSprop','SGD','Ftrl']\n",
        "epoch     = [5,10,20,30]\n",
        "\n",
        "accs = []\n",
        "losss= []\n",
        "for i,nn in enumerate(n_neurons):\n",
        "    c = (df['n_neurons'] == nn) & (df['n_layers'] == n_layers[0])\n",
        "    c = c & (df['dropout'] == dropout[3]) & (df['optimizer'] == optimizer[0])\n",
        "    c = c & (df['epochs'] == epoch[0])\n",
        "    acc = df[c]['accuracy']\n",
        "    accs.append(acc)\n",
        "    loss= df[c]['loss']\n",
        "    losss.append(loss)\n",
        "\n",
        "fig,ax=plt.subplots(2,1,figsize=(4,4),dpi=120,sharex=True)\n",
        "ax[0].boxplot(accs,labels=n_neurons)\n",
        "ax[0].set_ylabel('Accuracy')\n",
        "ax[1].boxplot(losss,labels=n_neurons)\n",
        "ax[1].set_ylabel('Loss')\n",
        "ax[1].set_xlabel('Number of artificial neurons')\n",
        "fig.align_ylabels()\n",
        "plt.tight_layout()"
      ]
    },
    {
      "cell_type": "code",
      "execution_count": null,
      "metadata": {
        "id": "BkhSCXP_Urz9"
      },
      "outputs": [],
      "source": [
        "accs = []\n",
        "losss= []\n",
        "for i,nl in enumerate(n_layers):\n",
        "    c = (df['n_neurons'] == 512) & (df['n_layers'] == nl)\n",
        "    c = c & (df['dropout'] == dropout[3]) & (df['optimizer'] == optimizer[0])\n",
        "    c = c & (df['epochs'] == epoch[0])\n",
        "    acc = df[c]['accuracy']\n",
        "    accs.append(acc)\n",
        "    loss= df[c]['loss']\n",
        "    losss.append(loss)\n",
        "\n",
        "fig,ax=plt.subplots(2,1,figsize=(4,4),dpi=120,sharex=True)\n",
        "ax[0].boxplot(accs,labels=n_layers)\n",
        "ax[0].set_ylabel('Accuracy')\n",
        "ax[1].boxplot(losss,labels=n_layers)\n",
        "ax[1].set_ylabel('Loss')\n",
        "ax[1].set_xlabel('Number of hidden layers')\n",
        "fig.align_ylabels()\n",
        "plt.tight_layout()"
      ]
    },
    {
      "cell_type": "code",
      "execution_count": null,
      "metadata": {
        "id": "uAMG1-7zfBYl"
      },
      "outputs": [],
      "source": [
        "accs = []\n",
        "losss= []\n",
        "for i,do in enumerate(dropout):\n",
        "    c = (df['n_neurons'] == 512) & (df['n_layers'] == 1)\n",
        "    c = c & (df['dropout'] == do) & (df['optimizer'] == optimizer[0])\n",
        "    c = c & (df['epochs'] == epoch[0])\n",
        "    acc = df[c]['accuracy']\n",
        "    accs.append(acc)\n",
        "    loss= df[c]['loss']\n",
        "    losss.append(loss)\n",
        "\n",
        "fig,ax=plt.subplots(2,1,figsize=(4,4),dpi=120,sharex=True)\n",
        "ax[0].boxplot(accs,labels=dropout)\n",
        "ax[0].set_ylabel('Accuracy')\n",
        "ax[1].boxplot(losss,labels=dropout)\n",
        "ax[1].set_ylabel('Loss')\n",
        "ax[1].set_xlabel('Dropout')\n",
        "fig.align_ylabels()\n",
        "plt.tight_layout()"
      ]
    },
    {
      "cell_type": "code",
      "execution_count": null,
      "metadata": {
        "id": "z5dQue5mfBYl"
      },
      "outputs": [],
      "source": [
        "accs = []\n",
        "losss= []\n",
        "for i,o in enumerate(optimizer):\n",
        "    c = (df['n_neurons'] == 512) & (df['n_layers'] == 1)\n",
        "    c = c & (df['dropout'] == 0.3) & (df['optimizer'] == o)\n",
        "    c = c & (df['epochs'] == epoch[0])\n",
        "    acc = df[c]['accuracy']\n",
        "    accs.append(acc)\n",
        "    loss= df[c]['loss']\n",
        "    losss.append(loss)\n",
        "\n",
        "fig,ax=plt.subplots(2,1,figsize=(4,4),dpi=120,sharex=True)\n",
        "ax[0].boxplot(accs,labels=optimizer)\n",
        "ax[0].set_ylabel('Accuracy')\n",
        "ax[1].boxplot(losss,labels=optimizer)\n",
        "ax[1].set_ylabel('Loss')\n",
        "fig.align_ylabels()\n",
        "plt.tight_layout()"
      ]
    },
    {
      "cell_type": "code",
      "execution_count": null,
      "metadata": {
        "id": "8xJAK6cyfBYl"
      },
      "outputs": [],
      "source": [
        "epoch     = [5,10,20,30]\n",
        "accs = []\n",
        "losss= []\n",
        "for i,e in enumerate(epoch):\n",
        "    c = (df['n_neurons'] == 512) & (df['n_layers'] == 1)\n",
        "    c = c & (df['dropout'] == 0.3) & (df['optimizer'] == 'adam')\n",
        "    c = c & (df['epochs'] == e)\n",
        "    acc = df[c]['accuracy']\n",
        "    accs.append(acc)\n",
        "    loss= df[c]['loss']\n",
        "    losss.append(loss)\n",
        "\n",
        "fig,ax=plt.subplots(2,1,figsize=(4,4),dpi=120,sharex=True)\n",
        "ax[0].boxplot(accs,labels=epoch,showmeans=True,meanline=True)\n",
        "ax[0].set_ylabel('Accuracy')\n",
        "ax[1].boxplot(losss,labels=epoch,showmeans=True,meanline=True)\n",
        "ax[1].set_ylabel('Loss')\n",
        "ax[1].set_xlabel('Epochs')\n",
        "fig.align_ylabels()\n",
        "plt.tight_layout()"
      ]
    },
    {
      "cell_type": "code",
      "execution_count": null,
      "metadata": {
        "id": "W-NuUsLIfBYm"
      },
      "outputs": [],
      "source": [
        "# Please, replace the values obtained by the simplified grid search here and execute the code\n",
        "d = model_and_evaluate(N_NEURONS=???,N_LAYERS=???,DROPOUT=???,EPOCHS=???,\n",
        "                       OPTIMIZER='???',verbose=1)"
      ]
    }
  ],
  "metadata": {
    "colab": {
      "provenance": []
    },
    "kernelspec": {
      "display_name": "Python 3",
      "language": "python",
      "name": "python3"
    },
    "language_info": {
      "codemirror_mode": {
        "name": "ipython",
        "version": 3
      },
      "file_extension": ".py",
      "mimetype": "text/x-python",
      "name": "python",
      "nbconvert_exporter": "python",
      "pygments_lexer": "ipython3",
      "version": "3.10.12"
    }
  },
  "nbformat": 4,
  "nbformat_minor": 0
}
